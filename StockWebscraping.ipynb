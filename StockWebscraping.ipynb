{
 "cells": [
  {
   "cell_type": "code",
   "execution_count": 1,
   "id": "fde21970",
   "metadata": {},
   "outputs": [],
   "source": [
    "#A notebook that gets daily closing prices, calculates log returns, alpha, beta, and Sharpe Ratio\n",
    "#TODO: Scrape earnings reports so we have some more graphs to work with\n",
    "import pandas as pd\n",
    "import numpy as np\n",
    "import yfinance as yf\n",
    "from sklearn.linear_model import LinearRegression\n",
    "import matplotlib.pyplot as plt\n",
    "from datetime import datetime\n",
    "import twint\n",
    "%matplotlib inline "
   ]
  },
  {
   "cell_type": "code",
   "execution_count": 2,
   "id": "25ef76db",
   "metadata": {},
   "outputs": [],
   "source": [
    "def createDataFrame(stockList, startDate, endDate):\n",
    "    stockDataFrame = pd.DataFrame(columns = stockList)\n",
    "    for stock in stockList:\n",
    "        stockDataFrame[stock] = yf.download(stock, start=startDate, end=endDate, progress=False)['Close']\n",
    "    return stockDataFrame\n",
    "\n",
    "def logReturns(stockDataFrame):\n",
    "    for stock in stockDataFrame.columns:\n",
    "        stockDataFrame[stock] = np.log(stockDataFrame[stock]) - np.log(stockDataFrame[stock].shift(1))\n",
    "    stockDataFrame.dropna(inplace=True)\n",
    "    return stockDataFrame\n",
    "\n",
    "#We use rolling alpha, beta in this case. Comparing with the SP500 for linear regression\n",
    "def marketAlphaBeta(logReturnDF, benchmarkDF):\n",
    "    alphaDataFrame = pd.DataFrame(columns = logReturnDF.columns, index=logReturnDF.index)\n",
    "    betaDataFrame = pd.DataFrame(columns = logReturnDF.columns, index=logReturnDF.index)\n",
    "    obs = logReturnDF.shape[0]\n",
    "    lagWindow = 30\n",
    "    for i in range((obs-lagWindow)):\n",
    "        for stock in logReturnDF.columns:\n",
    "            regressor = LinearRegression()\n",
    "            regressor.fit(benchmarkDF['^GSPC'].to_numpy()[i : i +lagWindow+1].reshape(-1,1), logReturnDF[stock].to_numpy()[i : i +lagWindow+1])\n",
    "            betaDataFrame[stock][i+lagWindow]  = regressor.coef_[0]\n",
    "            alphaDataFrame[stock][i+lagWindow]  = regressor.intercept_\n",
    "    alphaDataFrame.dropna(inplace=True)\n",
    "    betaDataFrame.dropna(inplace=True)\n",
    "    return alphaDataFrame, betaDataFrame\n",
    "\n",
    "#We use rolling Sharpe ratio in this case. We use 10 year Treasury Note (^TNX) yield as \"risk-free\" rate\n",
    "def rollingSharpeRatio(logReturnDF, logBenchmark):\n",
    "    sharpeDataFrame = pd.DataFrame(columns = logReturnDF.columns, index = logReturnDF.index)\n",
    "    obs = logReturnDF.shape[0]\n",
    "    lagWindow = 60\n",
    "    for i in range((obs-lagWindow)):\n",
    "        for stock in logReturnDF.columns:\n",
    "            netReturn = logReturnDF[stock][i : i +lagWindow+1].mean() - logBenchmark['^TNX'][i : i +lagWindow+1].mean()\n",
    "            stdDev = logReturnDF[stock][i : i +lagWindow+1].std()\n",
    "            sharpeDataFrame[stock][i+lagWindow]  = netReturn/stdDev\n",
    "    sharpeDataFrame.dropna(inplace=True)\n",
    "    return sharpeDataFrame"
   ]
  },
  {
   "cell_type": "code",
   "execution_count": 3,
   "id": "76629b55",
   "metadata": {},
   "outputs": [],
   "source": [
    "#Variables that we can modify to get our data\n",
    "memeStocks = ['AAPL','GOOG','TSLA','KO','OXY','BAC']\n",
    "benchmarks = ['^GSPC','^TNX']\n",
    "startDate = '2022-3-24'\n",
    "endDate = '2023-3-24'"
   ]
  },
  {
   "cell_type": "code",
   "execution_count": 4,
   "id": "e26ff80b",
   "metadata": {},
   "outputs": [],
   "source": [
    "#Run once variables are filled out\n",
    "newFrame = createDataFrame(memeStocks, startDate, endDate)\n",
    "newFrame.to_csv(\"stockPrices.csv\")\n",
    "benchmarkFrame = createDataFrame(benchmarks, startDate, endDate)\n",
    "benchmarkFrame.to_csv(\"benchmarkPrices.csv\")\n",
    "logDataFrame = logReturns(newFrame)\n",
    "logDataFrame.to_csv(\"logReturnsStock.csv\")\n",
    "logBenchmark = logReturns(benchmarkFrame)\n",
    "logBenchmark.to_csv(\"logReturnsBenchmark.csv\")\n",
    "alphaFrame, betaFrame = marketAlphaBeta(logDataFrame, logBenchmark)\n",
    "alphaFrame.to_csv(\"alphas.csv\")\n",
    "betaFrame.to_csv(\"betas.csv\")\n",
    "sharpeDataFrame = rollingSharpeRatio(logDataFrame, logBenchmark)\n",
    "sharpeDataFrame.to_csv(\"sharpeRatios.csv\")\n",
    "newFrame = createDataFrame(memeStocks, startDate, endDate)"
   ]
  },
  {
   "cell_type": "code",
   "execution_count": 5,
   "id": "6baf7fc2",
   "metadata": {},
   "outputs": [],
   "source": [
    "df = pd.merge(newFrame, benchmarkFrame, left_index=True, right_index=True)\n",
    "df['Date'] = df.index\n",
    "df = pd.melt(df, id_vars=[i for i in df.columns.values if i not in memeStocks], value_vars=memeStocks, var_name='Ticker', value_name='Price')\n",
    "logDataFrame['Date'] = logDataFrame.index\n",
    "log_melted = pd.melt(logDataFrame, id_vars=['Date'],value_vars=memeStocks, var_name='Ticker', value_name='Price')\n",
    "pd.merge(df, log_melted, on=['Ticker','Date'], how='inner', suffixes=['_Stock','_Log_Return'])\n",
    "df.to_csv(\"finalizedDataset.csv\")"
   ]
  },
  {
   "cell_type": "code",
   "execution_count": 6,
   "id": "96b73b22",
   "metadata": {},
   "outputs": [],
   "source": [
    "import nest_asyncio\n",
    "nest_asyncio.apply()"
   ]
  },
  {
   "cell_type": "code",
   "execution_count": 7,
   "id": "120619f8",
   "metadata": {},
   "outputs": [],
   "source": [
    "def processDateRange(date_range):\n",
    "    dates = [datetime.strptime(str(date), '%Y-%m-%d %H:%M:%S') for date in date_range.strftime('%Y-%m-%d %H:%M:%S')]\n",
    "    dates = [date.strftime('%Y-%m-%d %H:%M:%S') for date in dates]\n",
    "    return dates\n",
    "\n",
    "def scrapeForDate(ticker,dates):\n",
    "    i=0\n",
    "    df = pd.DataFrame()\n",
    "    since = processDateRange(dates.shift(freq='-1D'))\n",
    "    until = processDateRange(dates)\n",
    "    \n",
    "    while i != len(since)-1:\n",
    "        c = twint.Config()\n",
    "        c.Search = [ticker]\n",
    "        c.Limit = 60\n",
    "        c.Lang = 'en'\n",
    "        c.Verified = True\n",
    "        c.Hide_output = True\n",
    "        c.Since = since[i]\n",
    "        c.Until = until[i]\n",
    "        c.Pandas = True\n",
    "        c.Pandas_clean = True\n",
    "        c.Hide_output = True\n",
    "        c.Count = True\n",
    "        twint.run.Search(c) \n",
    "        if not twint.storage.panda.Tweets_df.empty:\n",
    "            if df.empty:\n",
    "                df = twint.storage.panda.Tweets_df[['date','tweet']]\n",
    "            print(twint.storage.panda.Tweets_df[['date','tweet']].shape)\n",
    "            df = pd.concat([df,twint.storage.panda.Tweets_df[['date','tweet']]])\n",
    "            i+=1\n",
    "    return df"
   ]
  },
  {
   "cell_type": "code",
   "execution_count": null,
   "id": "ec48e5f1",
   "metadata": {},
   "outputs": [],
   "source": [
    "%%capture\n",
    "dfs = []\n",
    "date_range = pd.date_range(start=startDate, end=endDate)\n",
    "\n",
    "for ticker in memeStocks:\n",
    "    df = scrapeForDate(ticker,date_range)\n",
    "    dfs.append(df)"
   ]
  },
  {
   "cell_type": "code",
   "execution_count": null,
   "id": "080e50b1",
   "metadata": {},
   "outputs": [],
   "source": [
    "dfs[3].shape"
   ]
  }
 ],
 "metadata": {
  "kernelspec": {
   "display_name": "Python 3 (ipykernel)",
   "language": "python",
   "name": "python3"
  },
  "language_info": {
   "codemirror_mode": {
    "name": "ipython",
    "version": 3
   },
   "file_extension": ".py",
   "mimetype": "text/x-python",
   "name": "python",
   "nbconvert_exporter": "python",
   "pygments_lexer": "ipython3",
   "version": "3.9.7"
  },
  "vscode": {
   "interpreter": {
    "hash": "d53292f4fdbc407f3751602e47416b1da2b74024acf0fb5ba3434bfe364ec9bd"
   }
  }
 },
 "nbformat": 4,
 "nbformat_minor": 5
}
